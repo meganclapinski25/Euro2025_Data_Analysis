{
 "cells": [
  {
   "cell_type": "code",
   "execution_count": null,
   "id": "23c56734-fb9c-4a26-acc4-12cb3c5e7ff1",
   "metadata": {},
   "outputs": [],
   "source": [
    "// Imports\n",
    "\n",
    "import pandas as pd\n",
    "import numpy as np \n",
    "from pathlib import Path\n",
    "from mplsoccer import Pitch\n",
    "import matplotlib.pyplot as plt\n",
    "from statsbombpy import sb"
   ]
  },
  {
   "cell_type": "code",
   "execution_count": null,
   "id": "28314137-5dcc-44ce-9fea-0314a652549c",
   "metadata": {},
   "outputs": [],
   "source": [
    "pd.options.display.max_columns = 200\n"
   ]
  },
  {
   "cell_type": "markdown",
   "id": "ae6ac962-228e-43a7-a748-20f73fa9fbf3",
   "metadata": {},
   "source": [
    "Exploring the dataset"
   ]
  },
  {
   "cell_type": "code",
   "execution_count": null,
   "id": "0028cae0-55bb-4e51-9461-4988a7a08642",
   "metadata": {},
   "outputs": [],
   "source": [
    "comps = sb.competitions()\n",
    "compst.sort_values(['competition_name','season_name]).tail(30)"
   ]
  }
 ],
 "metadata": {
  "kernelspec": {
   "display_name": "Python 3 (ipykernel)",
   "language": "python",
   "name": "python3"
  },
  "language_info": {
   "codemirror_mode": {
    "name": "ipython",
    "version": 3
   },
   "file_extension": ".py",
   "mimetype": "text/x-python",
   "name": "python",
   "nbconvert_exporter": "python",
   "pygments_lexer": "ipython3",
   "version": "3.13.7"
  }
 },
 "nbformat": 4,
 "nbformat_minor": 5
}
